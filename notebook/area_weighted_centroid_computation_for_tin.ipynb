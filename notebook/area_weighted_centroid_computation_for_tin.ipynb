{
 "cells": [
  {
   "cell_type": "markdown",
   "metadata": {},
   "source": [
    "# TIN Geometry Parsing and Centroid Calculation"
   ]
  },
  {
   "cell_type": "code",
   "execution_count": 1,
   "metadata": {},
   "outputs": [],
   "source": [
    "# -------------------------------------------------------------------------\n",
    "# Author: Farid Javadnejad\n",
    "# Date: 2025-02-05\n",
    "# Description: \n",
    "# This script parses a TIN geometry from a LandXML file, computes triangle areas,\n",
    "# and calculates the area-weighted centroid of the TIN.\n",
    "# Functions:\n",
    "#   - parse_tin_geometry: Parses the XML file to extract points and faces.\n",
    "#   - compute_triangle_area: Computes the area of a triangle using the cross-product method.\n",
    "#   - compute_weighted_centroid: Computes the area-weighted centroid of a TIN.\n",
    "# -------------------------------------------------------------------------"
   ]
  },
  {
   "cell_type": "markdown",
   "metadata": {},
   "source": [
    "## Libraries"
   ]
  },
  {
   "cell_type": "code",
   "execution_count": 2,
   "metadata": {},
   "outputs": [],
   "source": [
    "import sys, re\n",
    "from bs4 import BeautifulSoup as bs\n",
    "import numpy as np"
   ]
  },
  {
   "cell_type": "markdown",
   "metadata": {},
   "source": [
    "## Helper Functions"
   ]
  },
  {
   "cell_type": "code",
   "execution_count": 10,
   "metadata": {},
   "outputs": [],
   "source": [
    "def parse_tin_geometry(xml_file):\n",
    "    \"\"\"\n",
    "    Parses a TIN geometry from a LandXML file and returns points and faces.\n",
    "\n",
    "    Steps:\n",
    "    1. Reads the XML file using BeautifulSoup.\n",
    "    2. Extracts faces from <F> tags, skipping those with i=\"1\"\n",
    "       read: <F n=\"5 2 6\">9 5 6</F>\n",
    "       return: [[9, 5, 6]]\n",
    "    3. Extracts points from <P> tags.\n",
    "       read: <P id=\"100\">1.0 2.0 3.0</P>\n",
    "       return: {100: np.array([1.0, 2.0, 3.0])}\n",
    "    \"\"\"\n",
    "    global PRINT_LIMIT\n",
    "    points = {}\n",
    "    faces = []\n",
    "\n",
    "    # Read the XML file & catch any exception\n",
    "    try:\n",
    "        with open(xml_file, 'r', encoding='utf-8') as file:\n",
    "            xml_soup = bs(file, 'lxml-xml')\n",
    "        print (f\"Reading {xml_file}\")\n",
    "    except Exception as e:\n",
    "        raise ValueError(f\"Error reading XML file: {e}\")\n",
    "\n",
    "    # Extract faces\n",
    "    print(\"\\nExtracting faces...\")\n",
    "    counter = 0\n",
    "    for face in xml_soup.find_all('F'):\n",
    "        if face.get(\"i\") == \"1\":\n",
    "            continue  # Skip flagged faces\n",
    "        face_list = []\n",
    "        for x in face.text.split():\n",
    "            face_list.append(int(x))\n",
    "        faces.append(face_list)\n",
    "\n",
    "        #print data point        \n",
    "        if counter < PRINT_LIMIT:\n",
    "            print(face_list)\n",
    "        counter += 1\n",
    "\n",
    "    # Extract points\n",
    "    print(\"\\nExtracting points...\")\n",
    "    counter = 0\n",
    "    for point_tag in xml_soup.find_all('P'):\n",
    "        pid = int(point_tag[\"id\"])\n",
    "        point_list = []\n",
    "        for x in point_tag.text.split():\n",
    "            point_list.append(float(x))\n",
    "        points[pid] = np.array(point_list)\n",
    "\n",
    "        \n",
    "        #print data point        \n",
    "        if counter < PRINT_LIMIT:\n",
    "            print(point_list)\n",
    "        counter += 1\n",
    "    \n",
    "    # Return points and faces\n",
    "    return points, faces\n",
    "\n",
    "\n",
    "def compute_triangle_area(p1, p2, p3):\n",
    "    \"\"\"\n",
    "    Computes the area of a triangle in 3D space using the cross-product method.\n",
    "    Area = 0.5 * ||v1 x v2|| = 0.5 ||(p2-p1) x (p3-p1)||\n",
    "    \"\"\"\n",
    "    # Compute the vectors from point p1\n",
    "    v1 = p2 - p1\n",
    "    v2 = p3 - p1\n",
    "\n",
    "    # Calculate the cross product\n",
    "    cross_product = np.cross(v1, v2)\n",
    "\n",
    "    # Compute the area using the magnitude of the cross product\n",
    "    area = 0.5 * np.linalg.norm(cross_product)\n",
    "    return area\n",
    "\n",
    "\n",
    "\n",
    "def compute_weighted_centroid(points, faces):\n",
    "    \"\"\" \n",
    "    Computes the area-weighted centroid of a Triangulated Irregular Network (TIN).\n",
    "    1. Compute the centroid of each triangle\n",
    "        Ci = (p1 + p2 + p3) / 3\n",
    "    2. Compute the area of each triangle\n",
    "        Ai = 0.5 * ||(p2-p1) x (p3-p1)||\n",
    "    3. Compute the total weighted centroid\n",
    "        Ctin = Σ(Ai * Ci) / Σ(Ai)\n",
    "    \"\"\"\n",
    "    global PRINT_LIMIT\n",
    "    total_weighted_centroid = np.zeros(3)\n",
    "    total_area = 0\n",
    "    \n",
    "    print_counter = 0\n",
    "\n",
    "    print(\"\\nCalculating centroids and areas...\")\n",
    "    for face in faces:\n",
    "        p1, p2, p3 = points[face[0]], points[face[1]], points[face[2]]\n",
    "        area = compute_triangle_area(p1, p2, p3)     \n",
    "        centroid = (p1 + p2 + p3) / 3.0\n",
    "        total_weighted_centroid += area * centroid\n",
    "        total_area += area\n",
    "        \n",
    "        if print_counter < PRINT_LIMIT:\n",
    "            print(f\"Points: {p1}, {p2}, {p3}\")\n",
    "            print(f\"Centroid: {centroid}\")\n",
    "            print(f\"Area: {area}\")\n",
    "\n",
    "        print_counter += 1\n",
    "\n",
    "    print(f\"\\nTotal Area:{total_area}\")\n",
    "    weighted_centroid = total_weighted_centroid / total_area if total_area else None\n",
    "    return weighted_centroid"
   ]
  },
  {
   "cell_type": "markdown",
   "metadata": {},
   "source": [
    "## Main"
   ]
  },
  {
   "cell_type": "code",
   "execution_count": 12,
   "metadata": {},
   "outputs": [
    {
     "name": "stdout",
     "output_type": "stream",
     "text": [
      "Reading C:\\Farid\\gitProjects\\tin_geometry_parsing_and_calculations\\data\\raw\\NM566324_XDTM_SURFACE.xml\n",
      "\n",
      "Extracting faces...\n",
      "[9, 5, 6]\n",
      "[5, 76, 6]\n",
      "[77, 76, 5]\n",
      "\n",
      "Extracting points...\n",
      "[1822166.6784821365, 1755605.287130769, 6879.726737344359]\n",
      "[1822158.873187134, 1755614.2865845717, 6879.850892517768]\n",
      "[1822152.8314114646, 1755620.9763892465, 6879.985318722473]\n",
      "\n",
      "Calculating centroids and areas...\n",
      "Points: [1821935.90812934 1755307.11252778    6875.82707548], [1821891.46085999 1755294.81318221    6876.70698853], [1821870.07543035 1755317.94695243    6890.67778186]\n",
      "Centroid: [1821899.1481399  1755306.62422081    6881.07061529]\n",
      "Area: 718.8302572071676\n",
      "Points: [1821891.46085999 1755294.81318221    6876.70698853], [1821935.88908812 1755344.46025342    6877.49552315], [1821870.07543035 1755317.94695243    6890.67778186]\n",
      "Centroid: [1821899.14179282 1755319.07346269    6881.62676451]\n",
      "Area: 1143.3157047782163\n",
      "Points: [1821928.54692072 1755374.6646795     6883.4217891 ], [1821935.88908812 1755344.46025342    6877.49552315], [1821891.46085999 1755294.81318221    6876.70698853]\n",
      "Centroid: [1821918.63228961 1755337.97937171    6879.20810026]\n",
      "Area: 874.283000087251\n",
      "\n",
      "Total Area:385864.5793292147\n",
      "Area-weighted centroid: [1822119.40518305 1755539.94913637    6889.237931  ]\n"
     ]
    }
   ],
   "source": [
    "# Define a global limit for print statements\n",
    "PRINT_LIMIT = 3\n",
    "\n",
    "# Set file address (Note: Use \"/\" OR \"\\\\\" instead of \"\\\" for addressing the file path)\n",
    "xml_file1 = 'C:\\\\Farid\\\\gitProjects\\\\tin_geometry_parsing_and_calculations\\\\data\\\\sample\\\\my_tin.xml'\n",
    "xmk_file2 = 'C:\\\\Farid\\\\gitProjects\\\\tin_geometry_parsing_and_calculations\\\\data\\\\raw\\\\NM566324_XDTM_SURFACE.xml'\n",
    "\n",
    "# Load XML and parse data\n",
    "points, faces = parse_tin_geometry(xmk_file2)\n",
    "\n",
    "# Compute area-weighted centroid\n",
    "weighted_centroid = compute_weighted_centroid(points, faces)\n",
    "print(\"Area-weighted centroid:\", weighted_centroid)\n"
   ]
  },
  {
   "cell_type": "code",
   "execution_count": null,
   "metadata": {},
   "outputs": [],
   "source": []
  },
  {
   "cell_type": "code",
   "execution_count": null,
   "metadata": {},
   "outputs": [],
   "source": []
  }
 ],
 "metadata": {
  "kernelspec": {
   "display_name": "Python 3",
   "language": "python",
   "name": "python3"
  },
  "language_info": {
   "codemirror_mode": {
    "name": "ipython",
    "version": 3
   },
   "file_extension": ".py",
   "mimetype": "text/x-python",
   "name": "python",
   "nbconvert_exporter": "python",
   "pygments_lexer": "ipython3",
   "version": "3.13.1"
  }
 },
 "nbformat": 4,
 "nbformat_minor": 2
}
