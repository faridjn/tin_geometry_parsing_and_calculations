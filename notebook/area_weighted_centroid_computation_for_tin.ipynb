{
 "cells": [
  {
   "cell_type": "markdown",
   "metadata": {},
   "source": [
    "# TIN Geometry Parsing and Centroid Calculation"
   ]
  },
  {
   "cell_type": "code",
   "execution_count": 1,
   "metadata": {},
   "outputs": [],
   "source": [
    "# -------------------------------------------------------------------------\n",
    "# Author: Farid Javadnejad\n",
    "# Date: 2025-02-05\n",
    "# Description: \n",
    "# This script parses a TIN geometry from a LandXML file, computes triangle areas,\n",
    "# and calculates the area-weighted centroid of the TIN.\n",
    "# Functions:\n",
    "#   - parse_tin_geometry: Parses the XML file to extract points and faces.\n",
    "#   - compute_triangle_area: Computes the area of a triangle using the cross-product method.\n",
    "#   - compute_weighted_centroid: Computes the area-weighted centroid of a TIN.\n",
    "# Disclaimer: \n",
    "# AI-assisted debugging, reviewing and testing were used in this script.\n",
    "# -------------------------------------------------------------------------"
   ]
  },
  {
   "cell_type": "markdown",
   "metadata": {},
   "source": [
    "## Libraries"
   ]
  },
  {
   "cell_type": "code",
   "execution_count": 2,
   "metadata": {},
   "outputs": [],
   "source": [
    "from bs4 import BeautifulSoup as bs\n",
    "import numpy as np"
   ]
  },
  {
   "cell_type": "markdown",
   "metadata": {},
   "source": [
    "## Helper Functions"
   ]
  },
  {
   "cell_type": "code",
   "execution_count": 10,
   "metadata": {},
   "outputs": [],
   "source": [
    "def parse_tin_geometry(xml_file):\n",
    "    \"\"\"\n",
    "    Parses a TIN geometry from a LandXML file and returns points and faces.\n",
    "\n",
    "    Steps:\n",
    "    1. Reads the XML file using BeautifulSoup.\n",
    "    2. Extracts faces from <F> tags, skipping those with i=\"1\"\n",
    "       read: <F n=\"5 2 6\">9 5 6</F>\n",
    "       return: [[9, 5, 6]]\n",
    "    3. Extracts points from <P> tags.\n",
    "       read: <P id=\"100\">1.0 2.0 3.0</P>\n",
    "       return: {100: np.array([1.0, 2.0, 3.0])}\n",
    "    \"\"\"\n",
    "    points = {}\n",
    "    faces = []\n",
    "\n",
    "    # Read the XML file & catch any exception\n",
    "    try:\n",
    "        with open(xml_file, 'r', encoding='utf-8') as file:\n",
    "            xml_soup = bs(file, 'lxml-xml')\n",
    "        print (f\"Reading {xml_file}\")\n",
    "    except Exception as e:\n",
    "        raise ValueError(f\"Error reading XML file: {e}\")\n",
    "\n",
    "\n",
    "    # Extract points\n",
    "    print(\"\\nExtracting points...\")\n",
    "    counter = 0\n",
    "    for point_tag in xml_soup.find_all('P'):\n",
    "        pid = int(point_tag[\"id\"])\n",
    "        point_list = []\n",
    "        for x in point_tag.text.split():\n",
    "            point_list.append(float(x))\n",
    "        points[pid] = np.array(point_list)\n",
    "        \n",
    "        # Count number of points\n",
    "        counter += 1\n",
    "    print(f\"Number of points: {counter}\")\n",
    "\n",
    "\n",
    "    # Extract faces\n",
    "    print(\"\\nExtracting faces...\")\n",
    "    counter = 0\n",
    "    for face in xml_soup.find_all('F'):\n",
    "        if face.get(\"i\") == \"1\":\n",
    "            continue  # Skip flagged faces\n",
    "        face_list = []\n",
    "        for x in face.text.split():\n",
    "            face_list.append(int(x))\n",
    "        faces.append(face_list)\n",
    "\n",
    "        # Count number of points\n",
    "        counter += 1\n",
    "    print(f\"Number of faces: {counter}\")\n",
    "\n",
    "    # Return points and faces\n",
    "    return points, faces\n",
    "\n",
    "\n",
    "\n",
    "def compute_triangle_area(p1, p2, p3):\n",
    "    \"\"\"\n",
    "    Computes the area of a triangle in 3D space using the cross-product method.\n",
    "    Area = 0.5 * ||v1 x v2|| = 0.5 ||(p2-p1) x (p3-p1)||\n",
    "    \"\"\"\n",
    "    # Compute the vectors from point p1\n",
    "    v1 = p2 - p1\n",
    "    v2 = p3 - p1\n",
    "\n",
    "    # Calculate the cross product\n",
    "    cross_product = np.cross(v1, v2)\n",
    "\n",
    "    # Compute the area using the magnitude of the cross product\n",
    "    area = 0.5 * np.linalg.norm(cross_product)\n",
    "    return area\n",
    "\n",
    "\n",
    "\n",
    "def compute_weighted_centroid(points, faces):\n",
    "    \"\"\" \n",
    "    Computes the area-weighted centroid of a Triangulated Irregular Network (TIN).\n",
    "    1. Compute the centroid of each triangle\n",
    "        Ci = (p1 + p2 + p3) / 3\n",
    "    2. Compute the area of each triangle\n",
    "        Ai = 0.5 * ||(p2-p1) x (p3-p1)||\n",
    "    3. Compute the total weighted centroid\n",
    "        Ctin = Σ(Ai * Ci) / Σ(Ai)\n",
    "    \"\"\"\n",
    "    total_weighted_centroid = np.zeros(3)\n",
    "    total_area = 0\n",
    "    \n",
    "    print_counter = 0\n",
    "\n",
    "    print(\"\\nCalculating centroids and areas...\")\n",
    "    for face in faces:\n",
    "        p1, p2, p3 = points[face[0]], points[face[1]], points[face[2]]\n",
    "        area = compute_triangle_area(p1, p2, p3)     \n",
    "        centroid = (p1 + p2 + p3) / 3.0\n",
    "        total_weighted_centroid += area * centroid\n",
    "        total_area += area\n",
    "\n",
    "    print(f\"Total Area:{total_area}\")\n",
    "    weighted_centroid = total_weighted_centroid / total_area if total_area else None\n",
    "    \n",
    "    return weighted_centroid"
   ]
  },
  {
   "cell_type": "markdown",
   "metadata": {},
   "source": [
    "## Main"
   ]
  },
  {
   "cell_type": "code",
   "execution_count": 11,
   "metadata": {},
   "outputs": [
    {
     "name": "stdout",
     "output_type": "stream",
     "text": [
      "Reading C:\\Farid\\gitProjects\\tin_geometry_parsing_and_calculations\\notebook\\sample_xml.xml\n",
      "\n",
      "Extracting points...\n",
      "Number of points: 5\n",
      "\n",
      "Extracting faces...\n",
      "Number of faces: 3\n",
      "\n",
      "Calculating centroids and areas...\n",
      "Total Area:43.80082769512965\n",
      "Area-weighted centroid: [3.94278026 3.50221894 0.89427803]\n"
     ]
    }
   ],
   "source": [
    "# Set file address (Note: Use \"/\" OR \"\\\\\" instead of \"\\\" for addressing the file path)\n",
    "xml_file = 'C:\\\\Farid\\\\gitProjects\\\\tin_geometry_parsing_and_calculations\\\\notebook\\\\sample_xml.xml'\n",
    "#xml_file1 = 'C:\\\\Farid\\\\gitProjects\\\\tin_geometry_parsing_and_calculations\\\\data\\\\raw\\\\NM830224_XDTM_USGS.xml'\n",
    "\n",
    "# Load XML and parse data\n",
    "points, faces = parse_tin_geometry(xml_file)\n",
    "\n",
    "# Compute area-weighted centroid\n",
    "weighted_centroid = compute_weighted_centroid(points, faces)\n",
    "print(\"Area-weighted centroid:\", weighted_centroid)\n"
   ]
  },
  {
   "cell_type": "code",
   "execution_count": null,
   "metadata": {},
   "outputs": [],
   "source": []
  },
  {
   "cell_type": "code",
   "execution_count": null,
   "metadata": {},
   "outputs": [],
   "source": []
  }
 ],
 "metadata": {
  "kernelspec": {
   "display_name": "Python 3",
   "language": "python",
   "name": "python3"
  },
  "language_info": {
   "codemirror_mode": {
    "name": "ipython",
    "version": 3
   },
   "file_extension": ".py",
   "mimetype": "text/x-python",
   "name": "python",
   "nbconvert_exporter": "python",
   "pygments_lexer": "ipython3",
   "version": "3.13.1"
  }
 },
 "nbformat": 4,
 "nbformat_minor": 2
}
